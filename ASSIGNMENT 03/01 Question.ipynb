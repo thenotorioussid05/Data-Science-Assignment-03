{
 "cells": [
  {
   "cell_type": "code",
   "execution_count": 1,
   "id": "f7520daf-d578-40c9-a07d-4e1fd317d2a7",
   "metadata": {},
   "outputs": [],
   "source": [
    "#question 01. Which keyword is used to create a function? Create a function to return a list of odd numbers in the range of 1 to 25."
   ]
  },
  {
   "cell_type": "code",
   "execution_count": 2,
   "id": "f3058b37-d586-48ca-a1bc-8a6619ed6f05",
   "metadata": {},
   "outputs": [],
   "source": [
    "# The keyword which is used to creat a function is (def)\n"
   ]
  },
  {
   "cell_type": "code",
   "execution_count": 3,
   "id": "9654c5eb-541e-4bc9-9085-715ad9f42571",
   "metadata": {},
   "outputs": [
    {
     "data": {
      "text/plain": [
       "[1, 3, 5, 7, 9, 11, 13, 15, 17, 19, 21, 23]"
      ]
     },
     "execution_count": 3,
     "metadata": {},
     "output_type": "execute_result"
    }
   ],
   "source": [
    "#For Example - \n",
    "\n",
    "\n",
    "# Creating the funtion to get odd number in the range 1 to 25\n",
    "\n",
    "def odd_num():\n",
    "    return[i for i in range(1,25) if i%2 !=0]\n",
    "odd_num()"
   ]
  },
  {
   "cell_type": "code",
   "execution_count": null,
   "id": "6d44eb9e-5404-4203-8877-229d5f8ad9c7",
   "metadata": {},
   "outputs": [],
   "source": []
  }
 ],
 "metadata": {
  "kernelspec": {
   "display_name": "Python 3 (ipykernel)",
   "language": "python",
   "name": "python3"
  },
  "language_info": {
   "codemirror_mode": {
    "name": "ipython",
    "version": 3
   },
   "file_extension": ".py",
   "mimetype": "text/x-python",
   "name": "python",
   "nbconvert_exporter": "python",
   "pygments_lexer": "ipython3",
   "version": "3.10.8"
  }
 },
 "nbformat": 4,
 "nbformat_minor": 5
}
