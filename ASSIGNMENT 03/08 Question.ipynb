{
 "cells": [
  {
   "cell_type": "code",
   "execution_count": 1,
   "id": "3f0e5157-720d-4033-9d60-2109d2923cda",
   "metadata": {},
   "outputs": [],
   "source": [
    "#Question 08.  Write a python program to check whether a given number is Palindrome or not using a while loop."
   ]
  },
  {
   "cell_type": "code",
   "execution_count": 4,
   "id": "eb3e0c1c-97dc-46b8-b263-a7f419f69483",
   "metadata": {},
   "outputs": [
    {
     "name": "stdin",
     "output_type": "stream",
     "text": [
      "Enter any number - 10101\n"
     ]
    },
    {
     "name": "stdout",
     "output_type": "stream",
     "text": [
      "10101\n",
      "The number entered is a palindrome.\n"
     ]
    }
   ],
   "source": [
    "num = int(input('Enter any number -'))\n",
    "rev = 0\n",
    "temp = num\n",
    "\n",
    "while temp > 0:\n",
    "    dig = temp % 10\n",
    "    rev = (rev * 10) + dig\n",
    "    temp = temp // 10\n",
    "\n",
    "if (num == rev):\n",
    "    print (num)\n",
    "    print ('The number entered is a palindrome.')\n",
    "\n",
    "else :\n",
    "    print (num)\n",
    "    print ('The number entered is not a palindrome.')"
   ]
  },
  {
   "cell_type": "code",
   "execution_count": null,
   "id": "858bebe1-dab5-4733-b13d-1c314ea75e8e",
   "metadata": {},
   "outputs": [],
   "source": []
  }
 ],
 "metadata": {
  "kernelspec": {
   "display_name": "Python 3 (ipykernel)",
   "language": "python",
   "name": "python3"
  },
  "language_info": {
   "codemirror_mode": {
    "name": "ipython",
    "version": 3
   },
   "file_extension": ".py",
   "mimetype": "text/x-python",
   "name": "python",
   "nbconvert_exporter": "python",
   "pygments_lexer": "ipython3",
   "version": "3.10.8"
  }
 },
 "nbformat": 4,
 "nbformat_minor": 5
}
