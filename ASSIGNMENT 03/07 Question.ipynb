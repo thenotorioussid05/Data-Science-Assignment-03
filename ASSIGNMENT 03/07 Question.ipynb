{
 "cells": [
  {
   "cell_type": "code",
   "execution_count": 1,
   "id": "c88b5b3d-dd5d-43dc-90ec-48243ca5a876",
   "metadata": {},
   "outputs": [],
   "source": [
    "#Question 07. Write a List Comprehension to iterate through the given string: ‘pwskills’. Expected output: ['p', 'w', 's', 'k', 'i', 'l', 'l', 's']"
   ]
  },
  {
   "cell_type": "code",
   "execution_count": 2,
   "id": "6cfd5983-a75d-4d3c-80b2-4c403cc1f3ff",
   "metadata": {},
   "outputs": [
    {
     "name": "stdout",
     "output_type": "stream",
     "text": [
      "['p', 'w', 's', 'k', 'i', 'l', 'l', 's']\n"
     ]
    }
   ],
   "source": [
    "a = 'pwskills'\n",
    "List_comprehension = [i for i in a]\n",
    "print(List_comprehension)\n"
   ]
  },
  {
   "cell_type": "code",
   "execution_count": null,
   "id": "3dc43978-ca26-4dd5-9cc5-57b3a6a7277d",
   "metadata": {},
   "outputs": [],
   "source": []
  }
 ],
 "metadata": {
  "kernelspec": {
   "display_name": "Python 3 (ipykernel)",
   "language": "python",
   "name": "python3"
  },
  "language_info": {
   "codemirror_mode": {
    "name": "ipython",
    "version": 3
   },
   "file_extension": ".py",
   "mimetype": "text/x-python",
   "name": "python",
   "nbconvert_exporter": "python",
   "pygments_lexer": "ipython3",
   "version": "3.10.8"
  }
 },
 "nbformat": 4,
 "nbformat_minor": 5
}
