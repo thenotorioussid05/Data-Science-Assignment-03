{
 "cells": [
  {
   "cell_type": "code",
   "execution_count": 1,
   "id": "984960cc-8751-4691-aac2-d96834b5b0bf",
   "metadata": {},
   "outputs": [],
   "source": [
    "#Question 03. What is an iterator in python? Name the method used to initialise the iterator object and the method used for iteration. Use these methods to print the first five elements of the given list [2, 4, 6, 8, 10, 12, 14, 16, 18, 20]."
   ]
  },
  {
   "cell_type": "code",
   "execution_count": 2,
   "id": "db815b16-1760-4909-8b31-525c5b595f49",
   "metadata": {},
   "outputs": [],
   "source": [
    "#An itertor is an object that iterat over iterale objects like tuple,set,dic and lists. The method use to iitialise the iterator object is iter() method and the next() method for iteration"
   ]
  },
  {
   "cell_type": "code",
   "execution_count": 3,
   "id": "88c4d583-5cdb-4c9e-8ff2-27c952fceafa",
   "metadata": {},
   "outputs": [
    {
     "name": "stdout",
     "output_type": "stream",
     "text": [
      "2\n",
      "4\n",
      "6\n",
      "8\n",
      "10\n"
     ]
    }
   ],
   "source": [
    "# The given list :\n",
    "L = [2,4,6,8,10,12,14,16,18,20]\n",
    "\n",
    "# Initializing the given list using the iter() method :\n",
    "five_elements = iter(L)\n",
    "\n",
    "# iteration method\n",
    "print (next (five_elements))\n",
    "print (next (five_elements))\n",
    "print (next (five_elements))\n",
    "print (next (five_elements))\n",
    "print (next (five_elements))"
   ]
  },
  {
   "cell_type": "code",
   "execution_count": null,
   "id": "d69a7860-3b90-476f-a2d1-426c93e15d9b",
   "metadata": {},
   "outputs": [],
   "source": []
  }
 ],
 "metadata": {
  "kernelspec": {
   "display_name": "Python 3 (ipykernel)",
   "language": "python",
   "name": "python3"
  },
  "language_info": {
   "codemirror_mode": {
    "name": "ipython",
    "version": 3
   },
   "file_extension": ".py",
   "mimetype": "text/x-python",
   "name": "python",
   "nbconvert_exporter": "python",
   "pygments_lexer": "ipython3",
   "version": "3.10.8"
  }
 },
 "nbformat": 4,
 "nbformat_minor": 5
}
