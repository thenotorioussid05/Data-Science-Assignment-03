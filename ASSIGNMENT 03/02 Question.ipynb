{
 "cells": [
  {
   "cell_type": "code",
   "execution_count": 1,
   "id": "7aeb336a-5049-452a-b652-7f605447e908",
   "metadata": {},
   "outputs": [],
   "source": [
    "#Question 03.  Why args and kwargs is used in some functions? Create a function each for args and **kwargs to demonstrate their use."
   ]
  },
  {
   "cell_type": "code",
   "execution_count": null,
   "id": "426f6276-06ce-4843-bc7e-704bb6bb7b4f",
   "metadata": {},
   "outputs": [],
   "source": []
  },
  {
   "cell_type": "code",
   "execution_count": 2,
   "id": "6a8d53d2-787c-40a9-8c5f-312861f140f9",
   "metadata": {},
   "outputs": [],
   "source": [
    "# args : The syntax is to use the symbol to take in a variable number of arguments; by convention, it is often used with the word args. Thus, it is used in some functions as args allows us to take in more arguments than the number of formal arguments that we previously defined. With args, any number of extra arguments can be tacked on to our current formal parameters (including zero extra arguments)."
   ]
  },
  {
   "cell_type": "code",
   "execution_count": 4,
   "id": "436879ce-a2b6-49ae-9e5c-192f602748de",
   "metadata": {},
   "outputs": [
    {
     "name": "stdout",
     "output_type": "stream",
     "text": [
      "data_science\n",
      "pwskills\n",
      "python\n",
      "sid\n",
      "gupta\n"
     ]
    }
   ],
   "source": [
    "# Creating a function for *args to demonstrate its use:\n",
    "def demo (*args) :\n",
    "    for arg in args:\n",
    "        print(arg)\n",
    "     \n",
    "demo ('data_science',  'pwskills', 'python' , 'sid' , 'gupta')"
   ]
  },
  {
   "cell_type": "code",
   "execution_count": null,
   "id": "18e807b8-2060-46f9-87b5-eda250250e75",
   "metadata": {},
   "outputs": [],
   "source": []
  }
 ],
 "metadata": {
  "kernelspec": {
   "display_name": "Python 3 (ipykernel)",
   "language": "python",
   "name": "python3"
  },
  "language_info": {
   "codemirror_mode": {
    "name": "ipython",
    "version": 3
   },
   "file_extension": ".py",
   "mimetype": "text/x-python",
   "name": "python",
   "nbconvert_exporter": "python",
   "pygments_lexer": "ipython3",
   "version": "3.10.8"
  }
 },
 "nbformat": 4,
 "nbformat_minor": 5
}
