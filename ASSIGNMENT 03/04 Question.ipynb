{
 "cells": [
  {
   "cell_type": "code",
   "execution_count": 3,
   "id": "2d95024e-c6ed-462e-8f56-29d62f2dc548",
   "metadata": {},
   "outputs": [],
   "source": [
    "#Question 04.  What is a generator function in python? Why yield keyword is used? Give an example of a generator function."
   ]
  },
  {
   "cell_type": "code",
   "execution_count": 4,
   "id": "43718ae0-2dcd-4e6b-9568-4bd648a6c7bd",
   "metadata": {},
   "outputs": [],
   "source": [
    "# A generator function in python is used to save a time and a lot of memory consumption. It can also be used like an iterator object."
   ]
  },
  {
   "cell_type": "code",
   "execution_count": 5,
   "id": "a89e3c27-305f-4de3-8228-fa968d1af9f1",
   "metadata": {},
   "outputs": [],
   "source": [
    "# Yield keyword is used to creat a generator. Yield in like a key to unlock generator . We can use yield iin generator rather than return . Let explain it by example\n"
   ]
  },
  {
   "cell_type": "code",
   "execution_count": 6,
   "id": "40af8668-a7b0-4725-a300-150cd3a7bd65",
   "metadata": {},
   "outputs": [
    {
     "name": "stdout",
     "output_type": "stream",
     "text": [
      "0\n",
      "1\n",
      "1\n",
      "2\n",
      "3\n",
      "5\n",
      "8\n",
      "13\n",
      "21\n",
      "34\n"
     ]
    }
   ],
   "source": [
    "# Use of generator function\n",
    "def fib(n):\n",
    "    a,b = 0,1\n",
    "    for i in range(n):\n",
    "        yield a\n",
    "        a,b = b,a+b\n",
    "\n",
    "# Displayig the output\n",
    "for i in fib(10):\n",
    "    print(i)\n"
   ]
  },
  {
   "cell_type": "code",
   "execution_count": null,
   "id": "debd1525-becb-44ef-b720-a6d1e45b4600",
   "metadata": {},
   "outputs": [],
   "source": []
  }
 ],
 "metadata": {
  "kernelspec": {
   "display_name": "Python 3 (ipykernel)",
   "language": "python",
   "name": "python3"
  },
  "language_info": {
   "codemirror_mode": {
    "name": "ipython",
    "version": 3
   },
   "file_extension": ".py",
   "mimetype": "text/x-python",
   "name": "python",
   "nbconvert_exporter": "python",
   "pygments_lexer": "ipython3",
   "version": "3.10.8"
  }
 },
 "nbformat": 4,
 "nbformat_minor": 5
}
