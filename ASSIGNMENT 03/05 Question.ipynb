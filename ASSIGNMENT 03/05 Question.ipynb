{
 "cells": [
  {
   "cell_type": "code",
   "execution_count": 1,
   "id": "c3bb9e18-fd8a-4ce7-870b-ab379d00b872",
   "metadata": {},
   "outputs": [],
   "source": [
    "#Question 05. Create a generator function for prime numbers less than 1000. Use the next() method to print the first 20 prime numbers."
   ]
  },
  {
   "cell_type": "code",
   "execution_count": 3,
   "id": "ceae0d6c-5d8e-450f-abce-b8dff7045762",
   "metadata": {},
   "outputs": [
    {
     "name": "stdout",
     "output_type": "stream",
     "text": [
      "2\n",
      "3\n",
      "5\n",
      "7\n",
      "11\n",
      "13\n",
      "17\n",
      "19\n",
      "23\n",
      "29\n",
      "31\n",
      "37\n",
      "41\n",
      "43\n",
      "47\n",
      "53\n",
      "59\n",
      "61\n",
      "67\n",
      "71\n"
     ]
    }
   ],
   "source": [
    "# Creating a generator funtion for prime number less tha 1000\n",
    "def prime_number():\n",
    "    for x in range(2,1000):\n",
    "        if all(x % y != 0 for y in range(2, x)):\n",
    "            yield x\n",
    "p = prime_number()\n",
    "\n",
    "for i in range(20):\n",
    "    print(next(p))\n"
   ]
  },
  {
   "cell_type": "code",
   "execution_count": null,
   "id": "efe7e40d-2a49-4e5f-9dfb-e37a43fd7d4c",
   "metadata": {},
   "outputs": [],
   "source": []
  }
 ],
 "metadata": {
  "kernelspec": {
   "display_name": "Python 3 (ipykernel)",
   "language": "python",
   "name": "python3"
  },
  "language_info": {
   "codemirror_mode": {
    "name": "ipython",
    "version": 3
   },
   "file_extension": ".py",
   "mimetype": "text/x-python",
   "name": "python",
   "nbconvert_exporter": "python",
   "pygments_lexer": "ipython3",
   "version": "3.10.8"
  }
 },
 "nbformat": 4,
 "nbformat_minor": 5
}
